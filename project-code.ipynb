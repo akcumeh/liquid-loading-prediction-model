{
 "cells": [
  {
   "cell_type": "code",
   "execution_count": 11,
   "metadata": {},
   "outputs": [],
   "source": [
    "import pandas as pd\n",
    "import matplotlib.pyplot as plt\n",
    "import numpy as np\n",
    "import seaborn as sns"
   ]
  },
  {
   "cell_type": "code",
   "execution_count": 12,
   "metadata": {},
   "outputs": [],
   "source": [
    "data1, data2, data3, data4, data5 = pd.DataFrame([]), pd.DataFrame([]), pd.DataFrame([]), pd.DataFrame([]), pd.DataFrame([])\n",
    "# create 5 empty dataframes\n",
    "\n",
    "datasets = [data1, data2, data3, data4, data5]\n",
    "\n",
    "for a in range(0, 5):\n",
    "    file_path=\"data/dataset\"+str(a+1)+\".csv\"\n",
    "    datasets[a] = pd.read_csv(file_path)\n",
    "\n",
    "for df in datasets:\n",
    "    df.set_index(\"Well No.\", inplace=True)"
   ]
  },
  {
   "cell_type": "code",
   "execution_count": 15,
   "metadata": {},
   "outputs": [
    {
     "name": "stdout",
     "output_type": "stream",
     "text": [
      "                           count          mean           std      min   \n",
      "Gas production (m3/d)       18.0  51791.277778  41415.970356  14706.0  \\\n",
      "Liquid flow rate (m3/d)     18.0      0.346667      0.341071      0.0   \n",
      "Gas-Liquid ratio (m3/m3)    18.0   1692.838889    797.364840    419.6   \n",
      "Wellhead pressure (MPa)     18.0     17.094444      7.308051      3.0   \n",
      "Wellhead temperature (°C)   18.0     36.705556     11.947654     22.2   \n",
      "\n",
      "                                 25%       50%        75%       max  \n",
      "Gas production (m3/d)      18057.500  39721.50  79200.000  149000.0  \n",
      "Liquid flow rate (m3/d)        0.100      0.20      0.575       0.9  \n",
      "Gas-Liquid ratio (m3/m3)    1175.475   1403.40   2491.625    3393.0  \n",
      "Wellhead pressure (MPa)       10.275     18.60     22.850      27.2  \n",
      "Wellhead temperature (°C)     28.950     32.35     38.850      64.4  \n",
      "                           count           mean           std         min   \n",
      "Gas production (m3/d)       90.0  107077.227667  71233.617462  11324.0000  \\\n",
      "Wellhead pressure (MPa)     90.0      15.307333      9.767369      0.7800   \n",
      "Tubing inner diameter (m)   90.0       0.070500      0.036841      0.0440   \n",
      "Well depth (m)              90.0    2227.146230    654.987324    685.7665   \n",
      "\n",
      "                                 25%         50%         75%         max  \n",
      "Gas production (m3/d)      51142.015  95220.6850  137013.300  333123.800  \n",
      "Wellhead pressure (MPa)        9.055     14.6950      19.485      56.670  \n",
      "Tubing inner diameter (m)      0.051      0.0510       0.076       0.188  \n",
      "Well depth (m)              1808.595   2258.6105    2487.656    3611.704  \n",
      "                                   count        mean          std      min   \n",
      "Observed critical flowrate (m³/d)   50.0  15022.4184  5147.776058  3114.10  \\\n",
      "Wellhead pressure (MPa)             50.0      1.0458     0.616670     0.30   \n",
      "Bottomhole pressure (MPa)           50.0      3.0406     1.587980     0.84   \n",
      "Well depth (m)                      50.0   2099.8656   359.378989  1448.03   \n",
      "\n",
      "                                          25%        50%         75%       max  \n",
      "Observed critical flowrate (m³/d)  10970.1250  15796.980  18267.0275  27517.32  \n",
      "Wellhead pressure (MPa)                0.5625      0.935      1.2675      2.65  \n",
      "Bottomhole pressure (MPa)              1.7975      2.630      4.4800      7.58  \n",
      "Well depth (m)                      1845.6225   2002.135   2428.7550   2878.70  \n",
      "                               count       mean        std    min      25%   \n",
      "Gas production (10^4 m3/d)      38.0   1.416579   1.075823   0.12   0.7225  \\\n",
      "Liquid production (10^4 m3/d)   38.0   0.398158   0.512613   0.03   0.1600   \n",
      "Tubing diameter (mm)            38.0  75.568421  11.702116  62.00  62.0000   \n",
      "Inclination angle (Degree)      38.0  35.631579   9.225174  10.00  30.0000   \n",
      "Wellhead pressure (MPa)         38.0  10.132895   5.069594   1.57   6.8750   \n",
      "\n",
      "                                 50%     75%    max  \n",
      "Gas production (10^4 m3/d)      1.13   1.705   4.27  \n",
      "Liquid production (10^4 m3/d)   0.25   0.445   3.13  \n",
      "Tubing diameter (mm)           75.90  88.900  88.90  \n",
      "Inclination angle (Degree)     35.00  43.750  50.00  \n",
      "Wellhead pressure (MPa)        11.05  13.850  19.40  \n",
      "                               count       mean        std    min      25%   \n",
      "Gas production (10^4 m3/d)      38.0   1.416579   1.075823   0.12   0.7225  \\\n",
      "Liquid production (10^4 m3/d)   38.0   0.398158   0.512613   0.03   0.1600   \n",
      "Tubing diameter (mm)            38.0  75.568421  11.702116  62.00  62.0000   \n",
      "Inclination angle (Degree)      38.0  35.631579   9.225174  10.00  30.0000   \n",
      "Wellhead pressure (MPa)         38.0  10.132895   5.069594   1.57   6.8750   \n",
      "\n",
      "                                 50%     75%    max  \n",
      "Gas production (10^4 m3/d)      1.13   1.705   4.27  \n",
      "Liquid production (10^4 m3/d)   0.25   0.445   3.13  \n",
      "Tubing diameter (mm)           75.90  88.900  88.90  \n",
      "Inclination angle (Degree)     35.00  43.750  50.00  \n",
      "Wellhead pressure (MPa)        11.05  13.850  19.40  \n"
     ]
    }
   ],
   "source": [
    "for df in datasets:\n",
    "    print(df.describe().transpose().head())"
   ]
  },
  {
   "cell_type": "code",
   "execution_count": null,
   "metadata": {},
   "outputs": [],
   "source": []
  }
 ],
 "metadata": {
  "kernelspec": {
   "display_name": "Python 3",
   "language": "python",
   "name": "python3"
  },
  "language_info": {
   "codemirror_mode": {
    "name": "ipython",
    "version": 3
   },
   "file_extension": ".py",
   "mimetype": "text/x-python",
   "name": "python",
   "nbconvert_exporter": "python",
   "pygments_lexer": "ipython3",
   "version": "3.11.2"
  }
 },
 "nbformat": 4,
 "nbformat_minor": 2
}
